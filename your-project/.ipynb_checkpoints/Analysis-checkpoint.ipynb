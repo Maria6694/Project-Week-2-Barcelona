{
 "cells": [
  {
   "cell_type": "code",
   "execution_count": 1,
   "metadata": {},
   "outputs": [],
   "source": [
    "import pandas as pd\n",
    "import numpy as np"
   ]
  },
  {
   "cell_type": "code",
   "execution_count": 2,
   "metadata": {},
   "outputs": [],
   "source": [
    "main = pd.read_csv('main.csv', sep = \";\")\n",
    "type_cause_accident = pd.read_csv('type_cause_accident_formated.csv')\n",
    "vehicles_in_accident = pd.read_csv('vehicles_in_accident_formatted.csv')\n",
    "location = pd.read_csv('location.csv')"
   ]
  },
  {
   "cell_type": "code",
   "execution_count": 8,
   "metadata": {},
   "outputs": [
    {
     "name": "stdout",
     "output_type": "stream",
     "text": [
      "Number of accidents:  9936\n"
     ]
    }
   ],
   "source": [
    "#Number of accidents\n",
    "no_of_accident=main.loc[:,'Numero_victimes'].count()\n",
    "print('Number of accidents: ', no_of_accident)"
   ]
  },
  {
   "cell_type": "code",
   "execution_count": 9,
   "metadata": {},
   "outputs": [
    {
     "name": "stdout",
     "output_type": "stream",
     "text": [
      "Number of victims:  11898\n"
     ]
    }
   ],
   "source": [
    "#Number of victims\n",
    "no_of_victims = main.loc[:,'Numero_victimes'].sum()\n",
    "print(\"Number of victims: \",no_of_victims)"
   ]
  },
  {
   "cell_type": "code",
   "execution_count": 10,
   "metadata": {},
   "outputs": [
    {
     "name": "stdout",
     "output_type": "stream",
     "text": [
      "Deaths:  21\n"
     ]
    }
   ],
   "source": [
    "#Number of deaths\n",
    "no_of_deaths = main.loc[:,'Numero_morts'].sum()\n",
    "print(\"Deaths: \" , no_of_deaths)"
   ]
  },
  {
   "cell_type": "code",
   "execution_count": 11,
   "metadata": {},
   "outputs": [
    {
     "name": "stdout",
     "output_type": "stream",
     "text": [
      "Total number of vehicles involved:  19079\n"
     ]
    }
   ],
   "source": [
    "#Number of vehicles involved\n",
    "no_of_vehicles = vehicles_in_accident.loc[:, \"type_vehicle\"].count()\n",
    "print(\"Total number of vehicles involved: \", no_of_vehicles)"
   ]
  },
  {
   "cell_type": "code",
   "execution_count": 7,
   "metadata": {},
   "outputs": [
    {
     "name": "stdout",
     "output_type": "stream",
     "text": [
      "Mortality rate:  0.18%\n"
     ]
    }
   ],
   "source": [
    "#Mortality rate\n",
    "mortality_rate=no_of_deaths/no_of_victims\n",
    "print(\"Mortality rate: \", \"{:.2%}\".format(mortality_rate))"
   ]
  },
  {
   "cell_type": "code",
   "execution_count": 12,
   "metadata": {},
   "outputs": [
    {
     "name": "stdout",
     "output_type": "stream",
     "text": [
      "Average number of victims per accident:  1.1974637681159421\n"
     ]
    }
   ],
   "source": [
    "#Victim per accident\n",
    "victim_per_accident=main.loc[:,'Numero_victimes'].mean()\n",
    "print(\"Average number of victims per accident: \", victim_per_accident)"
   ]
  },
  {
   "cell_type": "code",
   "execution_count": 27,
   "metadata": {},
   "outputs": [
    {
     "data": {
      "text/plain": [
       "type_vehicle\n",
       "Turisme        7707\n",
       "Motocicleta    6102\n",
       "Furgoneta      1248\n",
       "Taxi            993\n",
       "Ciclomotor      891\n",
       "Name: Unnamed: 0, dtype: int64"
      ]
     },
     "execution_count": 27,
     "metadata": {},
     "output_type": "execute_result"
    }
   ],
   "source": [
    "#Number of accidents per type of vehicle\n",
    "accident_per_type=(vehicles_in_accident.groupby([\"type_vehicle\"]).count()).iloc[:,0]\n",
    "accident_per_type.sort_values(ascending=False).head()"
   ]
  },
  {
   "cell_type": "code",
   "execution_count": 28,
   "metadata": {},
   "outputs": [
    {
     "data": {
      "text/html": [
       "<div>\n",
       "<style scoped>\n",
       "    .dataframe tbody tr th:only-of-type {\n",
       "        vertical-align: middle;\n",
       "    }\n",
       "\n",
       "    .dataframe tbody tr th {\n",
       "        vertical-align: top;\n",
       "    }\n",
       "\n",
       "    .dataframe thead th {\n",
       "        text-align: right;\n",
       "    }\n",
       "</style>\n",
       "<table border=\"1\" class=\"dataframe\">\n",
       "  <thead>\n",
       "    <tr style=\"text-align: right;\">\n",
       "      <th></th>\n",
       "      <th>id_location</th>\n",
       "      <th>district</th>\n",
       "    </tr>\n",
       "  </thead>\n",
       "  <tbody>\n",
       "    <tr>\n",
       "      <td>0</td>\n",
       "      <td>1</td>\n",
       "      <td>Ciutat Vella</td>\n",
       "    </tr>\n",
       "    <tr>\n",
       "      <td>1</td>\n",
       "      <td>2</td>\n",
       "      <td>Eixample</td>\n",
       "    </tr>\n",
       "    <tr>\n",
       "      <td>2</td>\n",
       "      <td>3</td>\n",
       "      <td>Sants-MontjuÃ¯c</td>\n",
       "    </tr>\n",
       "    <tr>\n",
       "      <td>3</td>\n",
       "      <td>4</td>\n",
       "      <td>Les Corts</td>\n",
       "    </tr>\n",
       "    <tr>\n",
       "      <td>4</td>\n",
       "      <td>5</td>\n",
       "      <td>SarriÃ -Sant Gervasi\\r</td>\n",
       "    </tr>\n",
       "    <tr>\n",
       "      <td>5</td>\n",
       "      <td>6</td>\n",
       "      <td>GrÃ cia\\r</td>\n",
       "    </tr>\n",
       "    <tr>\n",
       "      <td>6</td>\n",
       "      <td>7</td>\n",
       "      <td>Horta-GuinardÃ³\\r</td>\n",
       "    </tr>\n",
       "    <tr>\n",
       "      <td>7</td>\n",
       "      <td>8</td>\n",
       "      <td>Nou Barris\\r</td>\n",
       "    </tr>\n",
       "    <tr>\n",
       "      <td>8</td>\n",
       "      <td>9</td>\n",
       "      <td>Sant Andreu\\r</td>\n",
       "    </tr>\n",
       "    <tr>\n",
       "      <td>9</td>\n",
       "      <td>10</td>\n",
       "      <td>Sant MartÃ­</td>\n",
       "    </tr>\n",
       "  </tbody>\n",
       "</table>\n",
       "</div>"
      ],
      "text/plain": [
       "   id_location                district\n",
       "0            1            Ciutat Vella\n",
       "1            2                Eixample\n",
       "2            3         Sants-MontjuÃ¯c\n",
       "3            4               Les Corts\n",
       "4            5  SarriÃ -Sant Gervasi\\r\n",
       "5            6               GrÃ cia\\r\n",
       "6            7       Horta-GuinardÃ³\\r\n",
       "7            8            Nou Barris\\r\n",
       "8            9           Sant Andreu\\r\n",
       "9           10             Sant MartÃ­"
      ]
     },
     "execution_count": 28,
     "metadata": {},
     "output_type": "execute_result"
    }
   ],
   "source": [
    "location"
   ]
  },
  {
   "cell_type": "code",
   "execution_count": null,
   "metadata": {},
   "outputs": [],
   "source": []
  }
 ],
 "metadata": {
  "kernelspec": {
   "display_name": "Python 3",
   "language": "python",
   "name": "python3"
  },
  "language_info": {
   "codemirror_mode": {
    "name": "ipython",
    "version": 3
   },
   "file_extension": ".py",
   "mimetype": "text/x-python",
   "name": "python",
   "nbconvert_exporter": "python",
   "pygments_lexer": "ipython3",
   "version": "3.7.4"
  }
 },
 "nbformat": 4,
 "nbformat_minor": 2
}
