{
 "cells": [
  {
   "cell_type": "code",
   "execution_count": 3,
   "metadata": {},
   "outputs": [],
   "source": [
    "import pandas as pd\n",
    "import numpy as np"
   ]
  },
  {
   "cell_type": "code",
   "execution_count": 24,
   "metadata": {},
   "outputs": [],
   "source": [
    "main = pd.read_csv('main.csv', sep = \";\")\n",
    "type_cause_accident = pd.read_csv('type_cause_accident_formated.csv')\n",
    "vehicles_in_accident = pd.read_csv('vehicles_in_accident_formatted.csv')\n",
    "location = pd.read_csv('location.csv')"
   ]
  },
  {
   "cell_type": "code",
   "execution_count": 25,
   "metadata": {},
   "outputs": [
    {
     "name": "stdout",
     "output_type": "stream",
     "text": [
      "Number of accidents:  9936\n"
     ]
    }
   ],
   "source": [
    "#Number of accidents\n",
    "print('Number of accidents: ', main.loc[:,'Numero_victimes'].count())"
   ]
  },
  {
   "cell_type": "code",
   "execution_count": 26,
   "metadata": {},
   "outputs": [
    {
     "name": "stdout",
     "output_type": "stream",
     "text": [
      "Number of victims:  11898\n"
     ]
    }
   ],
   "source": [
    "#Number of victims\n",
    "print('Number of victims: ', main.loc[:,'Numero_victimes'].sum())"
   ]
  },
  {
   "cell_type": "code",
   "execution_count": 27,
   "metadata": {},
   "outputs": [
    {
     "name": "stdout",
     "output_type": "stream",
     "text": [
      "Deads:  21\n"
     ]
    }
   ],
   "source": [
    "#Number of dead people\n",
    "print(\"Deads: \" , main.loc[:,'Numero_morts'].sum())"
   ]
  },
  {
   "cell_type": "code",
   "execution_count": null,
   "metadata": {},
   "outputs": [],
   "source": [
    "#Mortality rate\n"
   ]
  }
 ],
 "metadata": {
  "kernelspec": {
   "display_name": "Python 3",
   "language": "python",
   "name": "python3"
  },
  "language_info": {
   "codemirror_mode": {
    "name": "ipython",
    "version": 3
   },
   "file_extension": ".py",
   "mimetype": "text/x-python",
   "name": "python",
   "nbconvert_exporter": "python",
   "pygments_lexer": "ipython3",
   "version": "3.7.3"
  }
 },
 "nbformat": 4,
 "nbformat_minor": 2
}
