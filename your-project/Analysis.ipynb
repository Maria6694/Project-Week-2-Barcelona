{
 "cells": [
  {
   "cell_type": "code",
   "execution_count": 1,
   "metadata": {},
   "outputs": [],
   "source": [
    "import pandas as pd\n",
    "import numpy as np"
   ]
  },
  {
   "cell_type": "code",
   "execution_count": 2,
   "metadata": {},
   "outputs": [],
   "source": [
    "main = pd.read_csv('main.csv', sep = \";\")\n",
    "type_cause_accident = pd.read_csv('type_cause_accident_formated.csv')\n",
    "vehicles_in_accident = pd.read_csv('vehicles_in_accident_formatted.csv')\n",
    "location = pd.read_csv('location.csv')"
   ]
  },
  {
   "cell_type": "code",
   "execution_count": 3,
   "metadata": {},
   "outputs": [
    {
     "name": "stdout",
     "output_type": "stream",
     "text": [
      "Number of accidents:  9936\n"
     ]
    }
   ],
   "source": [
    "#Number of accidents\n",
    "print('Number of accidents: ', main.loc[:,'Numero_victimes'].count())"
   ]
  },
  {
   "cell_type": "code",
   "execution_count": 21,
   "metadata": {},
   "outputs": [
    {
     "name": "stdout",
     "output_type": "stream",
     "text": [
      "Number of victims:  11898\n"
     ]
    }
   ],
   "source": [
    "#Number of victims\n",
    "no_of_victims = main.loc[:,'Numero_victimes'].sum()\n",
    "print(\"Number of victims: \",no_of_victims)"
   ]
  },
  {
   "cell_type": "code",
   "execution_count": 22,
   "metadata": {},
   "outputs": [
    {
     "name": "stdout",
     "output_type": "stream",
     "text": [
      "Deaths:  21\n"
     ]
    }
   ],
   "source": [
    "#Number of deaths\n",
    "no_of_deaths = main.loc[:,'Numero_morts'].sum()\n",
    "print(\"Deaths: \" , no_of_deaths)"
   ]
  },
  {
   "cell_type": "code",
   "execution_count": 23,
   "metadata": {},
   "outputs": [
    {
     "name": "stdout",
     "output_type": "stream",
     "text": [
      "Total number of vehicles involved:  19079\n"
     ]
    }
   ],
   "source": [
    "#Number of vehicles involved\n",
    "no_of_vehicles = vehicles_in_accident.loc[:, \"type_vehicle\"].count()\n",
    "print(\"Total number of vehicles involved: \", no_of_vehicles)"
   ]
  },
  {
   "cell_type": "code",
   "execution_count": 26,
   "metadata": {},
   "outputs": [
    {
     "name": "stdout",
     "output_type": "stream",
     "text": [
      "Mortality rate:  0.0017650025214321734\n"
     ]
    }
   ],
   "source": [
    "#Mortality rate\n",
    "mortality_rate=no_of_deaths/no_of_victims\n",
    "print(\"Mortality rate: \", \"{:.1%}\".format(mortality_rate))"
   ]
  },
  {
   "cell_type": "code",
   "execution_count": null,
   "metadata": {},
   "outputs": [],
   "source": []
  }
 ],
 "metadata": {
  "kernelspec": {
   "display_name": "Python 3",
   "language": "python",
   "name": "python3"
  },
  "language_info": {
   "codemirror_mode": {
    "name": "ipython",
    "version": 3
   },
   "file_extension": ".py",
   "mimetype": "text/x-python",
   "name": "python",
   "nbconvert_exporter": "python",
   "pygments_lexer": "ipython3",
   "version": "3.7.4"
  }
 },
 "nbformat": 4,
 "nbformat_minor": 2
}
